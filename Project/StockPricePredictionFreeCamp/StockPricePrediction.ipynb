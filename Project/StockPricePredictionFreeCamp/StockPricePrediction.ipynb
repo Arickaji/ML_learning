{
 "cells": [
  {
   "cell_type": "code",
   "execution_count": 37,
   "metadata": {},
   "outputs": [],
   "source": [
    "import pandas as pd\n",
    "import numpy as np\n",
    "import yfinance as yf\n",
    "import matplotlib.pyplot as plt\n",
    "import seaborn as sns\n",
    "%matplotlib inline"
   ]
  },
  {
   "cell_type": "code",
   "execution_count": 46,
   "metadata": {},
   "outputs": [
    {
     "name": "stdout",
     "output_type": "stream",
     "text": [
      "[*********************100%***********************]  1 of 1 completed\n"
     ]
    },
    {
     "data": {
      "text/html": [
       "<div>\n",
       "<style scoped>\n",
       "    .dataframe tbody tr th:only-of-type {\n",
       "        vertical-align: middle;\n",
       "    }\n",
       "\n",
       "    .dataframe tbody tr th {\n",
       "        vertical-align: top;\n",
       "    }\n",
       "\n",
       "    .dataframe thead th {\n",
       "        text-align: right;\n",
       "    }\n",
       "</style>\n",
       "<table border=\"1\" class=\"dataframe\">\n",
       "  <thead>\n",
       "    <tr style=\"text-align: right;\">\n",
       "      <th></th>\n",
       "      <th>Open</th>\n",
       "      <th>High</th>\n",
       "      <th>Low</th>\n",
       "      <th>Close</th>\n",
       "      <th>Volume</th>\n",
       "    </tr>\n",
       "    <tr>\n",
       "      <th>Date</th>\n",
       "      <th></th>\n",
       "      <th></th>\n",
       "      <th></th>\n",
       "      <th></th>\n",
       "      <th></th>\n",
       "    </tr>\n",
       "  </thead>\n",
       "  <tbody>\n",
       "    <tr>\n",
       "      <th>2004-06-14</th>\n",
       "      <td>5.170988</td>\n",
       "      <td>5.761958</td>\n",
       "      <td>5.170988</td>\n",
       "      <td>5.761958</td>\n",
       "      <td>10</td>\n",
       "    </tr>\n",
       "    <tr>\n",
       "      <th>2004-06-15</th>\n",
       "      <td>5.880152</td>\n",
       "      <td>5.880152</td>\n",
       "      <td>5.872765</td>\n",
       "      <td>5.872765</td>\n",
       "      <td>10</td>\n",
       "    </tr>\n",
       "    <tr>\n",
       "      <th>2004-06-16</th>\n",
       "      <td>6.618865</td>\n",
       "      <td>6.618865</td>\n",
       "      <td>6.352929</td>\n",
       "      <td>6.352929</td>\n",
       "      <td>1500</td>\n",
       "    </tr>\n",
       "    <tr>\n",
       "      <th>2004-06-17</th>\n",
       "      <td>5.828442</td>\n",
       "      <td>5.828442</td>\n",
       "      <td>5.252247</td>\n",
       "      <td>5.289182</td>\n",
       "      <td>6500</td>\n",
       "    </tr>\n",
       "    <tr>\n",
       "      <th>2004-06-18</th>\n",
       "      <td>5.259634</td>\n",
       "      <td>5.259634</td>\n",
       "      <td>5.259634</td>\n",
       "      <td>5.259634</td>\n",
       "      <td>1000</td>\n",
       "    </tr>\n",
       "  </tbody>\n",
       "</table>\n",
       "</div>"
      ],
      "text/plain": [
       "                Open      High       Low     Close  Volume\n",
       "Date                                                      \n",
       "2004-06-14  5.170988  5.761958  5.170988  5.761958      10\n",
       "2004-06-15  5.880152  5.880152  5.872765  5.872765      10\n",
       "2004-06-16  6.618865  6.618865  6.352929  6.352929    1500\n",
       "2004-06-17  5.828442  5.828442  5.252247  5.289182    6500\n",
       "2004-06-18  5.259634  5.259634  5.259634  5.259634    1000"
      ]
     },
     "execution_count": 46,
     "metadata": {},
     "output_type": "execute_result"
    }
   ],
   "source": [
    "stockName = input(\"Enter the stock name: \")\n",
    "data = yf.download(stockName, start=\"2002-01-01\", end=\"2023-1-1\" , auto_adjust=True)\n",
    "data.head()"
   ]
  },
  {
   "cell_type": "code",
   "execution_count": 47,
   "metadata": {},
   "outputs": [
    {
     "data": {
      "text/plain": [
       "(4588, 5)"
      ]
     },
     "execution_count": 47,
     "metadata": {},
     "output_type": "execute_result"
    }
   ],
   "source": [
    "data.shape "
   ]
  },
  {
   "cell_type": "code",
   "execution_count": 48,
   "metadata": {},
   "outputs": [
    {
     "name": "stdout",
     "output_type": "stream",
     "text": [
      "<class 'pandas.core.frame.DataFrame'>\n",
      "DatetimeIndex: 4588 entries, 2004-06-14 to 2022-12-30\n",
      "Data columns (total 5 columns):\n",
      " #   Column  Non-Null Count  Dtype  \n",
      "---  ------  --------------  -----  \n",
      " 0   Open    4588 non-null   float64\n",
      " 1   High    4588 non-null   float64\n",
      " 2   Low     4588 non-null   float64\n",
      " 3   Close   4588 non-null   float64\n",
      " 4   Volume  4588 non-null   int64  \n",
      "dtypes: float64(4), int64(1)\n",
      "memory usage: 215.1 KB\n"
     ]
    }
   ],
   "source": [
    "data.info()"
   ]
  },
  {
   "cell_type": "code",
   "execution_count": 41,
   "metadata": {},
   "outputs": [
    {
     "data": {
      "text/html": [
       "<div>\n",
       "<style scoped>\n",
       "    .dataframe tbody tr th:only-of-type {\n",
       "        vertical-align: middle;\n",
       "    }\n",
       "\n",
       "    .dataframe tbody tr th {\n",
       "        vertical-align: top;\n",
       "    }\n",
       "\n",
       "    .dataframe thead th {\n",
       "        text-align: right;\n",
       "    }\n",
       "</style>\n",
       "<table border=\"1\" class=\"dataframe\">\n",
       "  <thead>\n",
       "    <tr style=\"text-align: right;\">\n",
       "      <th></th>\n",
       "      <th>Open</th>\n",
       "      <th>High</th>\n",
       "      <th>Low</th>\n",
       "      <th>Close</th>\n",
       "      <th>Adj Close</th>\n",
       "      <th>Volume</th>\n",
       "    </tr>\n",
       "  </thead>\n",
       "  <tbody>\n",
       "    <tr>\n",
       "      <th>count</th>\n",
       "      <td>0.0</td>\n",
       "      <td>0.0</td>\n",
       "      <td>0.0</td>\n",
       "      <td>0.0</td>\n",
       "      <td>0.0</td>\n",
       "      <td>0.0</td>\n",
       "    </tr>\n",
       "    <tr>\n",
       "      <th>mean</th>\n",
       "      <td>NaN</td>\n",
       "      <td>NaN</td>\n",
       "      <td>NaN</td>\n",
       "      <td>NaN</td>\n",
       "      <td>NaN</td>\n",
       "      <td>NaN</td>\n",
       "    </tr>\n",
       "    <tr>\n",
       "      <th>std</th>\n",
       "      <td>NaN</td>\n",
       "      <td>NaN</td>\n",
       "      <td>NaN</td>\n",
       "      <td>NaN</td>\n",
       "      <td>NaN</td>\n",
       "      <td>NaN</td>\n",
       "    </tr>\n",
       "    <tr>\n",
       "      <th>min</th>\n",
       "      <td>NaN</td>\n",
       "      <td>NaN</td>\n",
       "      <td>NaN</td>\n",
       "      <td>NaN</td>\n",
       "      <td>NaN</td>\n",
       "      <td>NaN</td>\n",
       "    </tr>\n",
       "    <tr>\n",
       "      <th>25%</th>\n",
       "      <td>NaN</td>\n",
       "      <td>NaN</td>\n",
       "      <td>NaN</td>\n",
       "      <td>NaN</td>\n",
       "      <td>NaN</td>\n",
       "      <td>NaN</td>\n",
       "    </tr>\n",
       "    <tr>\n",
       "      <th>50%</th>\n",
       "      <td>NaN</td>\n",
       "      <td>NaN</td>\n",
       "      <td>NaN</td>\n",
       "      <td>NaN</td>\n",
       "      <td>NaN</td>\n",
       "      <td>NaN</td>\n",
       "    </tr>\n",
       "    <tr>\n",
       "      <th>75%</th>\n",
       "      <td>NaN</td>\n",
       "      <td>NaN</td>\n",
       "      <td>NaN</td>\n",
       "      <td>NaN</td>\n",
       "      <td>NaN</td>\n",
       "      <td>NaN</td>\n",
       "    </tr>\n",
       "    <tr>\n",
       "      <th>max</th>\n",
       "      <td>NaN</td>\n",
       "      <td>NaN</td>\n",
       "      <td>NaN</td>\n",
       "      <td>NaN</td>\n",
       "      <td>NaN</td>\n",
       "      <td>NaN</td>\n",
       "    </tr>\n",
       "  </tbody>\n",
       "</table>\n",
       "</div>"
      ],
      "text/plain": [
       "       Open  High  Low  Close  Adj Close  Volume\n",
       "count   0.0   0.0  0.0    0.0        0.0     0.0\n",
       "mean    NaN   NaN  NaN    NaN        NaN     NaN\n",
       "std     NaN   NaN  NaN    NaN        NaN     NaN\n",
       "min     NaN   NaN  NaN    NaN        NaN     NaN\n",
       "25%     NaN   NaN  NaN    NaN        NaN     NaN\n",
       "50%     NaN   NaN  NaN    NaN        NaN     NaN\n",
       "75%     NaN   NaN  NaN    NaN        NaN     NaN\n",
       "max     NaN   NaN  NaN    NaN        NaN     NaN"
      ]
     },
     "execution_count": 41,
     "metadata": {},
     "output_type": "execute_result"
    }
   ],
   "source": [
    "data.describe()"
   ]
  },
  {
   "cell_type": "code",
   "execution_count": 49,
   "metadata": {},
   "outputs": [
    {
     "data": {
      "image/png": "[encoded data removed]",
      "text/plain": [
       "<Figure size 720x504 with 1 Axes>"
      ]
     },
     "metadata": {
      "needs_background": "light"
     },
     "output_type": "display_data"
    }
   ],
   "source": [
    "data.Close.plot(figsize=(10, 7))\n",
    "plt.ylabel(\"Stock Price\")\n",
    "plt.xlabel(\"Date\")\n",
    "plt.show()"
   ]
  },
  {
   "cell_type": "code",
   "execution_count": 50,
   "metadata": {},
   "outputs": [
    {
     "name": "stderr",
     "output_type": "stream",
     "text": [
      "C:\\Users\\Aric\\AppData\\Local\\Temp\\ipykernel_2700\\1783946029.py:1: UserWarning: \n",
      "\n",
      "`distplot` is a deprecated function and will be removed in seaborn v0.14.0.\n",
      "\n",
      "Please adapt your code to use either `displot` (a figure-level function with\n",
      "similar flexibility) or `histplot` (an axes-level function for histograms).\n",
      "\n",
      "For a guide to updating your code to use the new functions, please see\n",
      "https://gist.github.com/mwaskom/de44147ed2974457ad6372750bbe5751\n",
      "\n",
      "  sns.distplot(data.Close)\n"
     ]
    },
    {
     "data": {
      "text/plain": [
       "<AxesSubplot:xlabel='Close', ylabel='Density'>"
      ]
     },
     "execution_count": 50,
     "metadata": {},
     "output_type": "execute_result"
    },
    {
     "data": {
      "image/png": "[encoded data removed]",
      "text/plain": [
       "<Figure size 432x288 with 1 Axes>"
      ]
     },
     "metadata": {
      "needs_background": "light"
     },
     "output_type": "display_data"
    }
   ],
   "source": [
    "sns.distplot(data.Close)"
   ]
  },
  {
   "cell_type": "code",
   "execution_count": 51,
   "metadata": {},
   "outputs": [
    {
     "name": "stderr",
     "output_type": "stream",
     "text": [
      "C:\\Users\\Aric\\AppData\\Local\\Temp\\ipykernel_2700\\2824574419.py:1: UserWarning: \n",
      "\n",
      "`distplot` is a deprecated function and will be removed in seaborn v0.14.0.\n",
      "\n",
      "Please adapt your code to use either `displot` (a figure-level function with\n",
      "similar flexibility) or `histplot` (an axes-level function for histograms).\n",
      "\n",
      "For a guide to updating your code to use the new functions, please see\n",
      "https://gist.github.com/mwaskom/de44147ed2974457ad6372750bbe5751\n",
      "\n",
      "  sns.distplot(data.Open)\n"
     ]
    },
    {
     "data": {
      "text/plain": [
       "<AxesSubplot:xlabel='Open', ylabel='Density'>"
      ]
     },
     "execution_count": 51,
     "metadata": {},
     "output_type": "execute_result"
    },
    {
     "data": {
      "image/png": "[encoded data removed]",
      "text/plain": [
       "<Figure size 432x288 with 1 Axes>"
      ]
     },
     "metadata": {
      "needs_background": "light"
     },
     "output_type": "display_data"
    }
   ],
   "source": [
    "sns.distplot(data.Open)"
   ]
  },
  {
   "cell_type": "code",
   "execution_count": 52,
   "metadata": {},
   "outputs": [
    {
     "name": "stderr",
     "output_type": "stream",
     "text": [
      "C:\\Users\\Aric\\AppData\\Local\\Temp\\ipykernel_2700\\327981933.py:1: UserWarning: \n",
      "\n",
      "`distplot` is a deprecated function and will be removed in seaborn v0.14.0.\n",
      "\n",
      "Please adapt your code to use either `displot` (a figure-level function with\n",
      "similar flexibility) or `histplot` (an axes-level function for histograms).\n",
      "\n",
      "For a guide to updating your code to use the new functions, please see\n",
      "https://gist.github.com/mwaskom/de44147ed2974457ad6372750bbe5751\n",
      "\n",
      "  sns.distplot(data.High)\n"
     ]
    },
    {
     "data": {
      "text/plain": [
       "<AxesSubplot:xlabel='High', ylabel='Density'>"
      ]
     },
     "execution_count": 52,
     "metadata": {},
     "output_type": "execute_result"
    },
    {
     "data": {
      "image/png": "[encoded data removed]",
      "text/plain": [
       "<Figure size 432x288 with 1 Axes>"
      ]
     },
     "metadata": {
      "needs_background": "light"
     },
     "output_type": "display_data"
    }
   ],
   "source": [
    "sns.distplot(data.High)"
   ]
  },
  {
   "attachments": {},
   "cell_type": "markdown",
   "metadata": {},
   "source": [
    "Conclusion \n",
    "\n",
    "- how data is distributed\n",
    "- how data is correlated\n",
    "- how data is related to each other\n",
    "- how data is related to target variable\n",
    "- it is a non linear data so regession model will not work properly"
   ]
  },
  {
   "attachments": {},
   "cell_type": "markdown",
   "metadata": {},
   "source": [
    "Model"
   ]
  },
  {
   "cell_type": "code",
   "execution_count": 53,
   "metadata": {},
   "outputs": [],
   "source": [
    "from sklearn.model_selection import train_test_split\n",
    "X = data.drop([\"Close\"] , axis=1)\n",
    "y = data[\"Close\"]\n",
    "X_train, X_test, y_train, y_test = train_test_split(X, y, test_size=0.2, random_state=0)"
   ]
  },
  {
   "cell_type": "code",
   "execution_count": 54,
   "metadata": {},
   "outputs": [
    {
     "name": "stdout",
     "output_type": "stream",
     "text": [
      "X_train shape:  (3670, 4)\n",
      "X_test shape:  (918, 4)\n",
      "y_train shape:  (3670,)\n",
      "y_test shape:  (918,)\n"
     ]
    }
   ],
   "source": [
    "print(\"X_train shape: \", X_train.shape)\n",
    "print(\"X_test shape: \", X_test.shape)\n",
    "print(\"y_train shape: \", y_train.shape)\n",
    "print(\"y_test shape: \", y_test.shape)"
   ]
  },
  {
   "cell_type": "code",
   "execution_count": 55,
   "metadata": {},
   "outputs": [],
   "source": [
    "from sklearn.linear_model import LinearRegression\n",
    "lr = LinearRegression()\n",
    "lr.fit(X_train, y_train)\n",
    "predition = lr.predict(X_test)"
   ]
  },
  {
   "cell_type": "code",
   "execution_count": 57,
   "metadata": {},
   "outputs": [
    {
     "name": "stdout",
     "output_type": "stream",
     "text": [
      "Actual value of the stock :  126.53677368164062\n",
      "Predicted value of the stock :  126.8181086548141\n"
     ]
    }
   ],
   "source": [
    "print(\"Actual value of the stock : \" , y_test.iloc[0])\n",
    "print(\"Predicted value of the stock : \" , predition[0])"
   ]
  },
  {
   "cell_type": "code",
   "execution_count": 58,
   "metadata": {},
   "outputs": [
    {
     "name": "stdout",
     "output_type": "stream",
     "text": [
      "Mean Squared Error:  0.5033583448110067\n",
      "Root Mean Squared Error:  0.709477515366771\n",
      "R2 Score:  0.9997771910921638\n"
     ]
    }
   ],
   "source": [
    "#### mse --> mean squared error\n",
    "#### rmse --> root mean squared error\n",
    "#### r2 --> r square 1.0 is the best value\n",
    "\n",
    "def calculate_matrice(y_test , predition):\n",
    "    '''\n",
    "        This function will calculate the mse , rmse and r2 score\n",
    "        y_test --> actual value of the stock\n",
    "        predition --> predicted value of the stock\n",
    "    '''\n",
    "\n",
    "    from sklearn.metrics import mean_squared_error, r2_score\n",
    "    mse = mean_squared_error(y_test, predition)\n",
    "    rmse = np.sqrt(mse)\n",
    "    r2 = r2_score(y_test, predition)\n",
    "    print(\"Mean Squared Error: \", mse)\n",
    "    print(\"Root Mean Squared Error: \", rmse)\n",
    "    print(\"R2 Score: \", r2)\n",
    "\n",
    "\n",
    "calculate_matrice(y_test , predition)"
   ]
  },
  {
   "cell_type": "code",
   "execution_count": 59,
   "metadata": {},
   "outputs": [
    {
     "name": "stderr",
     "output_type": "stream",
     "text": [
      "c:\\Users\\Aric\\AppData\\Local\\Programs\\Python\\Python38-32\\lib\\site-packages\\sklearn\\linear_model\\_coordinate_descent.py:648: ConvergenceWarning: Objective did not converge. You might want to increase the number of iterations, check the scale of the features or consider increasing regularisation. Duality gap: 2.346e+03, tolerance: 9.186e+02\n",
      "  model = cd_fast.enet_coordinate_descent(\n"
     ]
    }
   ],
   "source": [
    "from sklearn.linear_model import Ridge , Lasso\n",
    "\n",
    "ridge = Ridge().fit(X_train, y_train)\n",
    "lasso = Lasso().fit(X_train, y_train)\n",
    "\n",
    "ridge_pred = ridge.predict(X_test)\n",
    "lasso_pred = lasso.predict(X_test)"
   ]
  },
  {
   "cell_type": "code",
   "execution_count": 60,
   "metadata": {},
   "outputs": [
    {
     "name": "stdout",
     "output_type": "stream",
     "text": [
      "Mean Squared Error:  0.5033501922312653\n",
      "Root Mean Squared Error:  0.7094717698621034\n",
      "R2 Score:  0.99977719470086\n"
     ]
    }
   ],
   "source": [
    "calculate_matrice(y_test , ridge_pred)"
   ]
  },
  {
   "cell_type": "code",
   "execution_count": 61,
   "metadata": {},
   "outputs": [
    {
     "name": "stdout",
     "output_type": "stream",
     "text": [
      "Mean Squared Error:  1.4362191025939854\n",
      "Root Mean Squared Error:  1.19842359063646\n",
      "R2 Score:  0.9993642652139151\n"
     ]
    }
   ],
   "source": [
    "calculate_matrice(y_test , lasso_pred)"
   ]
  },
  {
   "attachments": {},
   "cell_type": "markdown",
   "metadata": {},
   "source": [
    "### SVM works if we have lots of features"
   ]
  },
  {
   "cell_type": "code",
   "execution_count": 62,
   "metadata": {},
   "outputs": [
    {
     "name": "stdout",
     "output_type": "stream",
     "text": [
      "Fitting 5 folds for each of 36 candidates, totalling 180 fits\n",
      "[CV 1/5] END .C=0.001, gamma=0.001, kernel=rbf;, score=-0.386 total time=   1.7s\n",
      "[CV 2/5] END .C=0.001, gamma=0.001, kernel=rbf;, score=-0.294 total time=   1.5s\n",
      "[CV 3/5] END .C=0.001, gamma=0.001, kernel=rbf;, score=-0.373 total time=   1.9s\n",
      "[CV 4/5] END .C=0.001, gamma=0.001, kernel=rbf;, score=-0.424 total time=   1.7s\n",
      "[CV 5/5] END .C=0.001, gamma=0.001, kernel=rbf;, score=-0.383 total time=   1.7s\n",
      "[CV 1/5] END ..C=0.001, gamma=0.01, kernel=rbf;, score=-0.386 total time=   1.8s\n",
      "[CV 2/5] END ..C=0.001, gamma=0.01, kernel=rbf;, score=-0.294 total time=   1.7s\n",
      "[CV 3/5] END ..C=0.001, gamma=0.01, kernel=rbf;, score=-0.373 total time=   1.7s\n",
      "[CV 4/5] END ..C=0.001, gamma=0.01, kernel=rbf;, score=-0.424 total time=   1.9s\n",
      "[CV 5/5] END ..C=0.001, gamma=0.01, kernel=rbf;, score=-0.383 total time=   1.7s\n",
      "[CV 1/5] END ...C=0.001, gamma=0.1, kernel=rbf;, score=-0.386 total time=   1.7s\n",
      "[CV 2/5] END ...C=0.001, gamma=0.1, kernel=rbf;, score=-0.294 total time=   1.7s\n",
      "[CV 3/5] END ...C=0.001, gamma=0.1, kernel=rbf;, score=-0.373 total time=   1.7s\n",
      "[CV 4/5] END ...C=0.001, gamma=0.1, kernel=rbf;, score=-0.424 total time=   1.7s\n",
      "[CV 5/5] END ...C=0.001, gamma=0.1, kernel=rbf;, score=-0.383 total time=   1.7s\n",
      "[CV 1/5] END .....C=0.001, gamma=1, kernel=rbf;, score=-0.386 total time=   1.6s\n",
      "[CV 2/5] END .....C=0.001, gamma=1, kernel=rbf;, score=-0.294 total time=   1.7s\n",
      "[CV 3/5] END .....C=0.001, gamma=1, kernel=rbf;, score=-0.373 total time=   1.9s\n",
      "[CV 4/5] END .....C=0.001, gamma=1, kernel=rbf;, score=-0.424 total time=   1.7s\n",
      "[CV 5/5] END .....C=0.001, gamma=1, kernel=rbf;, score=-0.383 total time=   1.6s\n",
      "[CV 1/5] END ....C=0.001, gamma=10, kernel=rbf;, score=-0.386 total time=   1.7s\n",
      "[CV 2/5] END ....C=0.001, gamma=10, kernel=rbf;, score=-0.294 total time=   1.7s\n",
      "[CV 3/5] END ....C=0.001, gamma=10, kernel=rbf;, score=-0.373 total time=   2.0s\n",
      "[CV 4/5] END ....C=0.001, gamma=10, kernel=rbf;, score=-0.424 total time=   1.7s\n",
      "[CV 5/5] END ....C=0.001, gamma=10, kernel=rbf;, score=-0.383 total time=   1.7s\n",
      "[CV 1/5] END ...C=0.001, gamma=100, kernel=rbf;, score=-0.386 total time=   1.8s\n",
      "[CV 2/5] END ...C=0.001, gamma=100, kernel=rbf;, score=-0.294 total time=   1.7s\n",
      "[CV 3/5] END ...C=0.001, gamma=100, kernel=rbf;, score=-0.373 total time=   1.8s\n",
      "[CV 4/5] END ...C=0.001, gamma=100, kernel=rbf;, score=-0.424 total time=   1.7s\n",
      "[CV 5/5] END ...C=0.001, gamma=100, kernel=rbf;, score=-0.383 total time=   1.7s\n",
      "[CV 1/5] END ..C=0.01, gamma=0.001, kernel=rbf;, score=-0.386 total time=   1.7s\n",
      "[CV 2/5] END ..C=0.01, gamma=0.001, kernel=rbf;, score=-0.294 total time=   1.7s\n",
      "[CV 3/5] END ..C=0.01, gamma=0.001, kernel=rbf;, score=-0.373 total time=   1.8s\n",
      "[CV 4/5] END ..C=0.01, gamma=0.001, kernel=rbf;, score=-0.424 total time=   1.7s\n",
      "[CV 5/5] END ..C=0.01, gamma=0.001, kernel=rbf;, score=-0.383 total time=   2.0s\n",
      "[CV 1/5] END ...C=0.01, gamma=0.01, kernel=rbf;, score=-0.386 total time=   1.6s\n",
      "[CV 2/5] END ...C=0.01, gamma=0.01, kernel=rbf;, score=-0.294 total time=   1.7s\n",
      "[CV 3/5] END ...C=0.01, gamma=0.01, kernel=rbf;, score=-0.373 total time=   1.8s\n",
      "[CV 4/5] END ...C=0.01, gamma=0.01, kernel=rbf;, score=-0.424 total time=   1.7s\n",
      "[CV 5/5] END ...C=0.01, gamma=0.01, kernel=rbf;, score=-0.383 total time=   1.7s\n",
      "[CV 1/5] END ....C=0.01, gamma=0.1, kernel=rbf;, score=-0.386 total time=   1.9s\n",
      "[CV 2/5] END ....C=0.01, gamma=0.1, kernel=rbf;, score=-0.294 total time=   1.8s\n",
      "[CV 3/5] END ....C=0.01, gamma=0.1, kernel=rbf;, score=-0.373 total time=   1.7s\n",
      "[CV 4/5] END ....C=0.01, gamma=0.1, kernel=rbf;, score=-0.424 total time=   1.7s\n",
      "[CV 5/5] END ....C=0.01, gamma=0.1, kernel=rbf;, score=-0.383 total time=   1.7s\n",
      "[CV 1/5] END ......C=0.01, gamma=1, kernel=rbf;, score=-0.386 total time=   1.6s\n",
      "[CV 2/5] END ......C=0.01, gamma=1, kernel=rbf;, score=-0.294 total time=   1.9s\n",
      "[CV 3/5] END ......C=0.01, gamma=1, kernel=rbf;, score=-0.373 total time=   2.1s\n",
      "[CV 4/5] END ......C=0.01, gamma=1, kernel=rbf;, score=-0.424 total time=   1.8s\n",
      "[CV 5/5] END ......C=0.01, gamma=1, kernel=rbf;, score=-0.383 total time=   1.8s\n",
      "[CV 1/5] END .....C=0.01, gamma=10, kernel=rbf;, score=-0.386 total time=   1.7s\n",
      "[CV 2/5] END .....C=0.01, gamma=10, kernel=rbf;, score=-0.294 total time=   1.7s\n",
      "[CV 3/5] END .....C=0.01, gamma=10, kernel=rbf;, score=-0.373 total time=   1.7s\n",
      "[CV 4/5] END .....C=0.01, gamma=10, kernel=rbf;, score=-0.424 total time=   1.8s\n",
      "[CV 5/5] END .....C=0.01, gamma=10, kernel=rbf;, score=-0.383 total time=   1.8s\n",
      "[CV 1/5] END ....C=0.01, gamma=100, kernel=rbf;, score=-0.386 total time=   1.6s\n",
      "[CV 2/5] END ....C=0.01, gamma=100, kernel=rbf;, score=-0.294 total time=   1.6s\n",
      "[CV 3/5] END ....C=0.01, gamma=100, kernel=rbf;, score=-0.373 total time=   1.7s\n",
      "[CV 4/5] END ....C=0.01, gamma=100, kernel=rbf;, score=-0.424 total time=   1.8s\n",
      "[CV 5/5] END ....C=0.01, gamma=100, kernel=rbf;, score=-0.383 total time=   1.7s\n",
      "[CV 1/5] END ...C=0.1, gamma=0.001, kernel=rbf;, score=-0.386 total time=   1.6s\n",
      "[CV 2/5] END ...C=0.1, gamma=0.001, kernel=rbf;, score=-0.294 total time=   1.6s\n",
      "[CV 3/5] END ...C=0.1, gamma=0.001, kernel=rbf;, score=-0.373 total time=   1.7s\n",
      "[CV 4/5] END ...C=0.1, gamma=0.001, kernel=rbf;, score=-0.423 total time=   1.8s\n",
      "[CV 5/5] END ...C=0.1, gamma=0.001, kernel=rbf;, score=-0.382 total time=   1.7s\n",
      "[CV 1/5] END ....C=0.1, gamma=0.01, kernel=rbf;, score=-0.386 total time=   1.5s\n",
      "[CV 2/5] END ....C=0.1, gamma=0.01, kernel=rbf;, score=-0.294 total time=   1.7s\n",
      "[CV 3/5] END ....C=0.1, gamma=0.01, kernel=rbf;, score=-0.373 total time=   1.8s\n",
      "[CV 4/5] END ....C=0.1, gamma=0.01, kernel=rbf;, score=-0.424 total time=   1.6s\n",
      "[CV 5/5] END ....C=0.1, gamma=0.01, kernel=rbf;, score=-0.383 total time=   1.6s\n",
      "[CV 1/5] END .....C=0.1, gamma=0.1, kernel=rbf;, score=-0.386 total time=   1.7s\n",
      "[CV 2/5] END .....C=0.1, gamma=0.1, kernel=rbf;, score=-0.294 total time=   1.7s\n",
      "[CV 3/5] END .....C=0.1, gamma=0.1, kernel=rbf;, score=-0.373 total time=   1.9s\n",
      "[CV 4/5] END .....C=0.1, gamma=0.1, kernel=rbf;, score=-0.424 total time=   1.5s\n",
      "[CV 5/5] END .....C=0.1, gamma=0.1, kernel=rbf;, score=-0.383 total time=   1.7s\n",
      "[CV 1/5] END .......C=0.1, gamma=1, kernel=rbf;, score=-0.386 total time=   1.6s\n",
      "[CV 2/5] END .......C=0.1, gamma=1, kernel=rbf;, score=-0.294 total time=   1.5s\n",
      "[CV 3/5] END .......C=0.1, gamma=1, kernel=rbf;, score=-0.373 total time=   1.4s\n",
      "[CV 4/5] END .......C=0.1, gamma=1, kernel=rbf;, score=-0.424 total time=   1.5s\n",
      "[CV 5/5] END .......C=0.1, gamma=1, kernel=rbf;, score=-0.383 total time=   1.4s\n",
      "[CV 1/5] END ......C=0.1, gamma=10, kernel=rbf;, score=-0.386 total time=   1.4s\n",
      "[CV 2/5] END ......C=0.1, gamma=10, kernel=rbf;, score=-0.294 total time=   1.4s\n",
      "[CV 3/5] END ......C=0.1, gamma=10, kernel=rbf;, score=-0.373 total time=   1.4s\n",
      "[CV 4/5] END ......C=0.1, gamma=10, kernel=rbf;, score=-0.424 total time=   1.5s\n",
      "[CV 5/5] END ......C=0.1, gamma=10, kernel=rbf;, score=-0.383 total time=   1.5s\n",
      "[CV 1/5] END .....C=0.1, gamma=100, kernel=rbf;, score=-0.386 total time=   1.4s\n",
      "[CV 2/5] END .....C=0.1, gamma=100, kernel=rbf;, score=-0.294 total time=   1.4s\n",
      "[CV 3/5] END .....C=0.1, gamma=100, kernel=rbf;, score=-0.373 total time=   1.4s\n",
      "[CV 4/5] END .....C=0.1, gamma=100, kernel=rbf;, score=-0.424 total time=   1.4s\n",
      "[CV 5/5] END .....C=0.1, gamma=100, kernel=rbf;, score=-0.383 total time=   1.4s\n",
      "[CV 1/5] END .....C=1, gamma=0.001, kernel=rbf;, score=-0.373 total time=   1.5s\n",
      "[CV 2/5] END .....C=1, gamma=0.001, kernel=rbf;, score=-0.279 total time=   1.4s\n",
      "[CV 3/5] END .....C=1, gamma=0.001, kernel=rbf;, score=-0.359 total time=   1.4s\n",
      "[CV 4/5] END .....C=1, gamma=0.001, kernel=rbf;, score=-0.410 total time=   1.4s\n",
      "[CV 5/5] END .....C=1, gamma=0.001, kernel=rbf;, score=-0.368 total time=   1.4s\n",
      "[CV 1/5] END ......C=1, gamma=0.01, kernel=rbf;, score=-0.376 total time=   1.4s\n",
      "[CV 2/5] END ......C=1, gamma=0.01, kernel=rbf;, score=-0.284 total time=   1.4s\n",
      "[CV 3/5] END ......C=1, gamma=0.01, kernel=rbf;, score=-0.363 total time=   1.4s\n",
      "[CV 4/5] END ......C=1, gamma=0.01, kernel=rbf;, score=-0.414 total time=   1.4s\n",
      "[CV 5/5] END ......C=1, gamma=0.01, kernel=rbf;, score=-0.372 total time=   1.4s\n",
      "[CV 1/5] END .......C=1, gamma=0.1, kernel=rbf;, score=-0.377 total time=   1.4s\n",
      "[CV 2/5] END .......C=1, gamma=0.1, kernel=rbf;, score=-0.285 total time=   1.4s\n",
      "[CV 3/5] END .......C=1, gamma=0.1, kernel=rbf;, score=-0.363 total time=   1.4s\n",
      "[CV 4/5] END .......C=1, gamma=0.1, kernel=rbf;, score=-0.415 total time=   1.5s\n",
      "[CV 5/5] END .......C=1, gamma=0.1, kernel=rbf;, score=-0.373 total time=   1.4s\n",
      "[CV 1/5] END .........C=1, gamma=1, kernel=rbf;, score=-0.377 total time=   1.4s\n",
      "[CV 2/5] END .........C=1, gamma=1, kernel=rbf;, score=-0.285 total time=   1.4s\n",
      "[CV 3/5] END .........C=1, gamma=1, kernel=rbf;, score=-0.364 total time=   1.4s\n",
      "[CV 4/5] END .........C=1, gamma=1, kernel=rbf;, score=-0.415 total time=   1.4s\n",
      "[CV 5/5] END .........C=1, gamma=1, kernel=rbf;, score=-0.373 total time=   1.4s\n",
      "[CV 1/5] END ........C=1, gamma=10, kernel=rbf;, score=-0.377 total time=   1.4s\n",
      "[CV 2/5] END ........C=1, gamma=10, kernel=rbf;, score=-0.285 total time=   1.4s\n",
      "[CV 3/5] END ........C=1, gamma=10, kernel=rbf;, score=-0.364 total time=   1.4s\n",
      "[CV 4/5] END ........C=1, gamma=10, kernel=rbf;, score=-0.415 total time=   1.5s\n",
      "[CV 5/5] END ........C=1, gamma=10, kernel=rbf;, score=-0.374 total time=   1.4s\n",
      "[CV 1/5] END .......C=1, gamma=100, kernel=rbf;, score=-0.377 total time=   1.4s\n",
      "[CV 2/5] END .......C=1, gamma=100, kernel=rbf;, score=-0.285 total time=   1.4s\n",
      "[CV 3/5] END .......C=1, gamma=100, kernel=rbf;, score=-0.364 total time=   1.4s\n",
      "[CV 4/5] END .......C=1, gamma=100, kernel=rbf;, score=-0.415 total time=   1.4s\n",
      "[CV 5/5] END .......C=1, gamma=100, kernel=rbf;, score=-0.374 total time=   1.4s\n",
      "[CV 1/5] END ....C=10, gamma=0.001, kernel=rbf;, score=-0.283 total time=   1.5s\n",
      "[CV 2/5] END ....C=10, gamma=0.001, kernel=rbf;, score=-0.190 total time=   1.5s\n",
      "[CV 3/5] END ....C=10, gamma=0.001, kernel=rbf;, score=-0.268 total time=   1.6s\n",
      "[CV 4/5] END ....C=10, gamma=0.001, kernel=rbf;, score=-0.329 total time=   1.5s\n",
      "[CV 5/5] END ....C=10, gamma=0.001, kernel=rbf;, score=-0.279 total time=   1.5s\n",
      "[CV 1/5] END .....C=10, gamma=0.01, kernel=rbf;, score=-0.308 total time=   1.5s\n",
      "[CV 2/5] END .....C=10, gamma=0.01, kernel=rbf;, score=-0.210 total time=   1.5s\n",
      "[CV 3/5] END .....C=10, gamma=0.01, kernel=rbf;, score=-0.294 total time=   1.5s\n",
      "[CV 4/5] END .....C=10, gamma=0.01, kernel=rbf;, score=-0.352 total time=   1.5s\n",
      "[CV 5/5] END .....C=10, gamma=0.01, kernel=rbf;, score=-0.304 total time=   1.6s\n",
      "[CV 1/5] END ......C=10, gamma=0.1, kernel=rbf;, score=-0.315 total time=   1.6s\n",
      "[CV 2/5] END ......C=10, gamma=0.1, kernel=rbf;, score=-0.217 total time=   1.5s\n",
      "[CV 3/5] END ......C=10, gamma=0.1, kernel=rbf;, score=-0.301 total time=   1.4s\n",
      "[CV 4/5] END ......C=10, gamma=0.1, kernel=rbf;, score=-0.359 total time=   1.5s\n",
      "[CV 5/5] END ......C=10, gamma=0.1, kernel=rbf;, score=-0.310 total time=   1.5s\n",
      "[CV 1/5] END ........C=10, gamma=1, kernel=rbf;, score=-0.317 total time=   1.4s\n",
      "[CV 2/5] END ........C=10, gamma=1, kernel=rbf;, score=-0.219 total time=   1.5s\n",
      "[CV 3/5] END ........C=10, gamma=1, kernel=rbf;, score=-0.303 total time=   1.8s\n",
      "[CV 4/5] END ........C=10, gamma=1, kernel=rbf;, score=-0.361 total time=   1.5s\n",
      "[CV 5/5] END ........C=10, gamma=1, kernel=rbf;, score=-0.312 total time=   1.6s\n",
      "[CV 1/5] END .......C=10, gamma=10, kernel=rbf;, score=-0.318 total time=   1.6s\n",
      "[CV 2/5] END .......C=10, gamma=10, kernel=rbf;, score=-0.220 total time=   1.5s\n",
      "[CV 3/5] END .......C=10, gamma=10, kernel=rbf;, score=-0.304 total time=   1.6s\n",
      "[CV 4/5] END .......C=10, gamma=10, kernel=rbf;, score=-0.361 total time=   1.5s\n",
      "[CV 5/5] END .......C=10, gamma=10, kernel=rbf;, score=-0.313 total time=   2.2s\n",
      "[CV 1/5] END ......C=10, gamma=100, kernel=rbf;, score=-0.318 total time=   1.8s\n",
      "[CV 2/5] END ......C=10, gamma=100, kernel=rbf;, score=-0.221 total time=   1.8s\n",
      "[CV 3/5] END ......C=10, gamma=100, kernel=rbf;, score=-0.304 total time=   1.9s\n",
      "[CV 4/5] END ......C=10, gamma=100, kernel=rbf;, score=-0.362 total time=   1.9s\n",
      "[CV 5/5] END ......C=10, gamma=100, kernel=rbf;, score=-0.313 total time=   1.8s\n",
      "[CV 1/5] END ....C=100, gamma=0.001, kernel=rbf;, score=0.053 total time=   2.8s\n",
      "[CV 2/5] END ....C=100, gamma=0.001, kernel=rbf;, score=0.055 total time=   2.7s\n",
      "[CV 3/5] END ....C=100, gamma=0.001, kernel=rbf;, score=0.048 total time=   3.0s\n",
      "[CV 4/5] END ....C=100, gamma=0.001, kernel=rbf;, score=0.060 total time=   2.7s\n",
      "[CV 5/5] END ....C=100, gamma=0.001, kernel=rbf;, score=0.060 total time=   3.5s\n",
      "[CV 1/5] END .....C=100, gamma=0.01, kernel=rbf;, score=0.019 total time=   3.0s\n",
      "[CV 2/5] END .....C=100, gamma=0.01, kernel=rbf;, score=0.010 total time=   2.5s\n",
      "[CV 3/5] END .....C=100, gamma=0.01, kernel=rbf;, score=0.015 total time=   2.4s\n",
      "[CV 4/5] END .....C=100, gamma=0.01, kernel=rbf;, score=0.018 total time=   2.8s\n",
      "[CV 5/5] END .....C=100, gamma=0.01, kernel=rbf;, score=0.021 total time=   3.1s\n",
      "[CV 1/5] END ......C=100, gamma=0.1, kernel=rbf;, score=0.009 total time=   3.0s\n",
      "[CV 2/5] END .....C=100, gamma=0.1, kernel=rbf;, score=-0.001 total time=   2.8s\n",
      "[CV 3/5] END ......C=100, gamma=0.1, kernel=rbf;, score=0.007 total time=   2.7s\n",
      "[CV 4/5] END ......C=100, gamma=0.1, kernel=rbf;, score=0.004 total time=   2.6s\n",
      "[CV 5/5] END ......C=100, gamma=0.1, kernel=rbf;, score=0.011 total time=   2.5s\n",
      "[CV 1/5] END ........C=100, gamma=1, kernel=rbf;, score=0.008 total time=   2.4s\n",
      "[CV 2/5] END .......C=100, gamma=1, kernel=rbf;, score=-0.003 total time=   2.3s\n",
      "[CV 3/5] END ........C=100, gamma=1, kernel=rbf;, score=0.004 total time=   2.3s\n",
      "[CV 4/5] END ........C=100, gamma=1, kernel=rbf;, score=0.002 total time=   2.4s\n",
      "[CV 5/5] END ........C=100, gamma=1, kernel=rbf;, score=0.010 total time=   2.3s\n",
      "[CV 1/5] END .......C=100, gamma=10, kernel=rbf;, score=0.006 total time=   2.3s\n",
      "[CV 2/5] END ......C=100, gamma=10, kernel=rbf;, score=-0.002 total time=   2.3s\n",
      "[CV 3/5] END .......C=100, gamma=10, kernel=rbf;, score=0.004 total time=   2.3s\n",
      "[CV 4/5] END .......C=100, gamma=10, kernel=rbf;, score=0.001 total time=   2.3s\n",
      "[CV 5/5] END .......C=100, gamma=10, kernel=rbf;, score=0.008 total time=   2.3s\n",
      "[CV 1/5] END ......C=100, gamma=100, kernel=rbf;, score=0.005 total time=   2.4s\n",
      "[CV 2/5] END .....C=100, gamma=100, kernel=rbf;, score=-0.003 total time=   2.3s\n",
      "[CV 3/5] END ......C=100, gamma=100, kernel=rbf;, score=0.003 total time=   2.3s\n",
      "[CV 4/5] END .....C=100, gamma=100, kernel=rbf;, score=-0.000 total time=   2.4s\n",
      "[CV 5/5] END ......C=100, gamma=100, kernel=rbf;, score=0.007 total time=   2.3s\n"
     ]
    },
    {
     "data": {
      "text/html": [
       "<style>#sk-container-id-1 {color: black;background-color: white;}#sk-container-id-1 pre{padding: 0;}#sk-container-id-1 div.sk-toggleable {background-color: white;}#sk-container-id-1 label.sk-toggleable__label {cursor: pointer;display: block;width: 100%;margin-bottom: 0;padding: 0.3em;box-sizing: border-box;text-align: center;}#sk-container-id-1 label.sk-toggleable__label-arrow:before {content: \"▸\";float: left;margin-right: 0.25em;color: #696969;}#sk-container-id-1 label.sk-toggleable__label-arrow:hover:before {color: black;}#sk-container-id-1 div.sk-estimator:hover label.sk-toggleable__label-arrow:before {color: black;}#sk-container-id-1 div.sk-toggleable__content {max-height: 0;max-width: 0;overflow: hidden;text-align: left;background-color: #f0f8ff;}#sk-container-id-1 div.sk-toggleable__content pre {margin: 0.2em;color: black;border-radius: 0.25em;background-color: #f0f8ff;}#sk-container-id-1 input.sk-toggleable__control:checked~div.sk-toggleable__content {max-height: 200px;max-width: 100%;overflow: auto;}#sk-container-id-1 input.sk-toggleable__control:checked~label.sk-toggleable__label-arrow:before {content: \"▾\";}#sk-container-id-1 div.sk-estimator input.sk-toggleable__control:checked~label.sk-toggleable__label {background-color: #d4ebff;}#sk-container-id-1 div.sk-label input.sk-toggleable__control:checked~label.sk-toggleable__label {background-color: #d4ebff;}#sk-container-id-1 input.sk-hidden--visually {border: 0;clip: rect(1px 1px 1px 1px);clip: rect(1px, 1px, 1px, 1px);height: 1px;margin: -1px;overflow: hidden;padding: 0;position: absolute;width: 1px;}#sk-container-id-1 div.sk-estimator {font-family: monospace;background-color: #f0f8ff;border: 1px dotted black;border-radius: 0.25em;box-sizing: border-box;margin-bottom: 0.5em;}#sk-container-id-1 div.sk-estimator:hover {background-color: #d4ebff;}#sk-container-id-1 div.sk-parallel-item::after {content: \"\";width: 100%;border-bottom: 1px solid gray;flex-grow: 1;}#sk-container-id-1 div.sk-label:hover label.sk-toggleable__label {background-color: #d4ebff;}#sk-container-id-1 div.sk-serial::before {content: \"\";position: absolute;border-left: 1px solid gray;box-sizing: border-box;top: 0;bottom: 0;left: 50%;z-index: 0;}#sk-container-id-1 div.sk-serial {display: flex;flex-direction: column;align-items: center;background-color: white;padding-right: 0.2em;padding-left: 0.2em;position: relative;}#sk-container-id-1 div.sk-item {position: relative;z-index: 1;}#sk-container-id-1 div.sk-parallel {display: flex;align-items: stretch;justify-content: center;background-color: white;position: relative;}#sk-container-id-1 div.sk-item::before, #sk-container-id-1 div.sk-parallel-item::before {content: \"\";position: absolute;border-left: 1px solid gray;box-sizing: border-box;top: 0;bottom: 0;left: 50%;z-index: -1;}#sk-container-id-1 div.sk-parallel-item {display: flex;flex-direction: column;z-index: 1;position: relative;background-color: white;}#sk-container-id-1 div.sk-parallel-item:first-child::after {align-self: flex-end;width: 50%;}#sk-container-id-1 div.sk-parallel-item:last-child::after {align-self: flex-start;width: 50%;}#sk-container-id-1 div.sk-parallel-item:only-child::after {width: 0;}#sk-container-id-1 div.sk-dashed-wrapped {border: 1px dashed gray;margin: 0 0.4em 0.5em 0.4em;box-sizing: border-box;padding-bottom: 0.4em;background-color: white;}#sk-container-id-1 div.sk-label label {font-family: monospace;font-weight: bold;display: inline-block;line-height: 1.2em;}#sk-container-id-1 div.sk-label-container {text-align: center;}#sk-container-id-1 div.sk-container {/* jupyter's `normalize.less` sets `[hidden] { display: none; }` but bootstrap.min.css set `[hidden] { display: none !important; }` so we also need the `!important` here to be able to override the default hidden behavior on the sphinx rendered scikit-learn.org. See: https://github.com/scikit-learn/scikit-learn/issues/21755 */display: inline-block !important;position: relative;}#sk-container-id-1 div.sk-text-repr-fallback {display: none;}</style><div id=\"sk-container-id-1\" class=\"sk-top-container\"><div class=\"sk-text-repr-fallback\"><pre>GridSearchCV(estimator=SVR(),\n",
       "             param_grid={&#x27;C&#x27;: [0.001, 0.01, 0.1, 1, 10, 100],\n",
       "                         &#x27;gamma&#x27;: [0.001, 0.01, 0.1, 1, 10, 100],\n",
       "                         &#x27;kernel&#x27;: [&#x27;rbf&#x27;]},\n",
       "             verbose=3)</pre><b>In a Jupyter environment, please rerun this cell to show the HTML representation or trust the notebook. <br />On GitHub, the HTML representation is unable to render, please try loading this page with nbviewer.org.</b></div><div class=\"sk-container\" hidden><div class=\"sk-item sk-dashed-wrapped\"><div class=\"sk-label-container\"><div class=\"sk-label sk-toggleable\"><input class=\"sk-toggleable__control sk-hidden--visually\" id=\"sk-estimator-id-1\" type=\"checkbox\" ><label for=\"sk-estimator-id-1\" class=\"sk-toggleable__label sk-toggleable__label-arrow\">GridSearchCV</label><div class=\"sk-toggleable__content\"><pre>GridSearchCV(estimator=SVR(),\n",
       "             param_grid={&#x27;C&#x27;: [0.001, 0.01, 0.1, 1, 10, 100],\n",
       "                         &#x27;gamma&#x27;: [0.001, 0.01, 0.1, 1, 10, 100],\n",
       "                         &#x27;kernel&#x27;: [&#x27;rbf&#x27;]},\n",
       "             verbose=3)</pre></div></div></div><div class=\"sk-parallel\"><div class=\"sk-parallel-item\"><div class=\"sk-item\"><div class=\"sk-label-container\"><div class=\"sk-label sk-toggleable\"><input class=\"sk-toggleable__control sk-hidden--visually\" id=\"sk-estimator-id-2\" type=\"checkbox\" ><label for=\"sk-estimator-id-2\" class=\"sk-toggleable__label sk-toggleable__label-arrow\">estimator: SVR</label><div class=\"sk-toggleable__content\"><pre>SVR()</pre></div></div></div><div class=\"sk-serial\"><div class=\"sk-item\"><div class=\"sk-estimator sk-toggleable\"><input class=\"sk-toggleable__control sk-hidden--visually\" id=\"sk-estimator-id-3\" type=\"checkbox\" ><label for=\"sk-estimator-id-3\" class=\"sk-toggleable__label sk-toggleable__label-arrow\">SVR</label><div class=\"sk-toggleable__content\"><pre>SVR()</pre></div></div></div></div></div></div></div></div></div></div>"
      ],
      "text/plain": [
       "GridSearchCV(estimator=SVR(),\n",
       "             param_grid={'C': [0.001, 0.01, 0.1, 1, 10, 100],\n",
       "                         'gamma': [0.001, 0.01, 0.1, 1, 10, 100],\n",
       "                         'kernel': ['rbf']},\n",
       "             verbose=3)"
      ]
     },
     "execution_count": 62,
     "metadata": {},
     "output_type": "execute_result"
    }
   ],
   "source": [
    "from sklearn.svm import SVR\n",
    "from sklearn.model_selection import GridSearchCV\n",
    "\n",
    "svr = SVR()\n",
    "\n",
    "parameters = {\n",
    "    'C' : [0.001, 0.01, 0.1, 1, 10, 100],\n",
    "    'gamma' : [0.001, 0.01, 0.1, 1, 10, 100],\n",
    "    'kernel' : ['rbf']\n",
    "}\n",
    "\n",
    "grid_svr = GridSearchCV(svr, parameters, refit=True, verbose=3)\n",
    "\n",
    "grid_svr.fit(X_train, y_train)\n"
   ]
  },
  {
   "cell_type": "code",
   "execution_count": 63,
   "metadata": {},
   "outputs": [
    {
     "data": {
      "text/plain": [
       "array([59.69864526, 52.6231495 , 59.69855954, 59.69208825, 59.69855954,\n",
       "       59.69855954, 59.69855954, 57.28897122, 59.69855954, 59.69855954,\n",
       "       59.86834829, 58.33043582, 59.69855954, 59.69855954, 59.69855954,\n",
       "       59.69855954, 59.69855954, 59.69855954, 59.69855954, 59.69855954,\n",
       "       38.20633589, 59.69855954, 59.69855954, 56.81772963, 59.69855954,\n",
       "       59.69855954, 59.69855954, 59.69855954, 59.69855954, 59.61838917,\n",
       "       35.6657927 , 59.69855954, 43.52939328, 59.69855954, 59.69855954,\n",
       "       59.69855954, 59.69855954, 59.69538609, 22.47222654, 59.69855954,\n",
       "       59.69855954, 59.69855954, 59.69855954, 59.69855954, 59.69855954,\n",
       "       59.6985615 , 59.69855954, 59.69855954, 43.95766639, 59.69855954,\n",
       "       59.69855954, 59.69855927, 59.69855954, 59.69855954, 64.59330237,\n",
       "       59.69855954, 59.69855954, 59.69855954, 59.69855954, 59.69855954,\n",
       "       59.69855954, 59.69855954, 59.69855954, 59.69853462, 59.69855953,\n",
       "       59.69855954, 59.69855954, 59.69855954, 59.69855954, 37.6325402 ,\n",
       "       59.69855954, 68.05951002, 59.69855954, 59.69855954, 28.83325872,\n",
       "       59.69855954, 59.69855954, 59.69919157, 59.69855954, 59.76867324,\n",
       "       57.52757227, 59.69855954, 59.7082669 , 59.67239657, 59.69855954,\n",
       "       59.69855318, 59.69855954, 59.69855954, 59.69855954, 59.69856297,\n",
       "       59.69855954, 59.69855954, 59.69855954, 57.19147352, 53.60336059,\n",
       "       59.69855954, 59.69855954, 59.69855954, 63.97606451, 59.69855954,\n",
       "       59.69855954, 59.69855954, 59.69855954, 59.69855954, 59.73959435,\n",
       "       59.69855954, 59.69855954, 59.69855954, 59.69855932, 59.69855905,\n",
       "       59.69855954, 59.69855954, 59.69856142, 59.69855954, 59.69855954,\n",
       "       59.69855954, 59.69855954, 59.69855954, 59.69853764, 59.69855954,\n",
       "       59.69855954, 59.69855954, 59.69855954, 59.69855954, 59.69855954,\n",
       "       59.0195709 , 53.69328272, 30.49092671, 59.69856033, 59.69855954,\n",
       "       59.69855954, 59.41260274, 58.53733312, 59.69855954, 59.69855954,\n",
       "       22.47222654, 59.69855954, 59.69855954, 59.69855954, 59.69855954,\n",
       "       59.69855954, 42.16784337, 59.69855954, 59.69855954, 57.89413736,\n",
       "       59.68717375, 59.69855954, 43.38869101, 59.69855954, 59.69855954,\n",
       "       59.69855954, 59.69855954, 59.69855954, 59.69855954, 59.69855954,\n",
       "       59.69855954, 59.69855954, 59.69855954, 53.42855341, 59.69855954,\n",
       "       59.69855954, 59.69855954, 59.69855954, 59.69855954, 65.43300181,\n",
       "       59.53206479, 59.69889592, 59.70878712, 59.68573176, 59.69855954,\n",
       "       59.69855954, 22.47222654, 59.69855954, 59.69855954, 59.71048821,\n",
       "       59.69855954, 59.69855954, 59.6140493 ,  6.42242125, 59.69855954,\n",
       "       59.69855954, 59.69870863, 59.69855954, 59.69855954, 59.69855954,\n",
       "       59.69855954, 59.69855954, 58.05482617, 59.69855954, 59.69855954,\n",
       "       59.69855954, 59.69855954, 59.69855954, 59.69850952, 59.69856096,\n",
       "       15.82825579, 59.69855954, 22.47222654, 59.69855954, 59.69855954,\n",
       "       59.69855954, 59.69855954, 59.69855954, 59.69855954, 18.70276393,\n",
       "       59.69855954, 22.47222654, 59.69855954, 59.69913615, 59.69855954,\n",
       "       59.55756751, 59.69855954, 59.6985648 , 59.69854549, 59.69855954,\n",
       "       59.69855954, 59.69855954, 59.57753585, 59.69855954, 59.69855954,\n",
       "       59.69855954, 59.54584226, 59.69855954, 59.69855954, 59.69855954,\n",
       "       59.69855636, 51.60153901, 59.68309842, 53.38861977, 59.69855954,\n",
       "       59.69855954, 59.69855954, 45.8092149 , 59.69795556, 59.69855954,\n",
       "       59.69855954, 59.69855954, 59.69855954, 59.69855954, 59.69855954,\n",
       "       59.69855954, 59.69855954, 23.17013155, 59.69855949, 59.69857106,\n",
       "       59.69855954, 59.69855954, 31.13252955, 59.69855954, 36.96307803,\n",
       "       59.36699674, 59.69855954, 51.02039943, 59.69855954, 59.69855954,\n",
       "       59.69855954, 59.69855954, 59.69855954, 59.69855954, 59.69855954,\n",
       "       59.69855954, 59.50254974, 59.69847582, 60.21344164, 59.69855954,\n",
       "       39.59230605, 59.69857223, 59.69855954, 64.9010296 , 59.69855954,\n",
       "       59.69855954, 59.69855954, 33.86929792, 59.7169581 , 24.90760129,\n",
       "       59.69855954, 17.66402041, 59.69855954, 59.69855954, 32.40313945,\n",
       "       59.69855954, 59.69855954, 59.69855954, 59.69855954, 59.69855954,\n",
       "       59.69855954, 52.61345274, 59.69855954, 59.69855954, 59.69855954,\n",
       "       59.69855953, 59.69855954, 59.69855954, 59.69859786, 22.45248891,\n",
       "       59.69855944, 59.69854265, 48.29684753, 59.69855954, 59.69855954,\n",
       "       59.69855954, 59.69855954, 59.69855954, 59.69855954, 59.69856068,\n",
       "       59.6985684 , 59.69855954, 59.69855954, 59.69855954, 59.69855954,\n",
       "       59.69855954, 59.69855954, 59.69855954, 59.69855954, 59.69789452,\n",
       "       59.69855954, 59.69855954, 59.69855954, 57.86738904, 59.69855954,\n",
       "       59.69855956, 34.59218914, 59.69855954, 59.69855954, 59.69855954,\n",
       "       59.69855954, 59.6985526 , 59.69855954, 48.10871869, 59.69855954,\n",
       "       59.69855954, 59.69855954, 59.68360359, 59.69855953, 59.62042509,\n",
       "       59.69855951, 59.66616346, 59.69855954, 59.69855954, 59.69855954,\n",
       "       59.69855954, 59.69855954, 15.36790331, 59.69855954, 59.69855954,\n",
       "       59.54742756, 59.69855954, 59.69855954, 59.69855954, 59.47939159,\n",
       "       59.69855954, 59.69855954, 59.69855954, 16.16425204, 59.69462061,\n",
       "       59.69855954, 59.69855954, 59.69855954, 22.29503705, 59.69855954,\n",
       "       59.69855954, 59.69855954, 59.69855954, 59.69855954, 59.69846425,\n",
       "       34.19846001, 53.02021363, 59.69855954, 59.69855954, 59.69855954,\n",
       "       59.69855954, 59.69855954, 59.69855954, 59.69855954, 59.69855954,\n",
       "       59.69855954, 57.47176362, 59.69855954, 47.4948543 , 59.69855954,\n",
       "       59.69855954, 59.69855954, 59.69855954, 59.2730641 , 59.69855954,\n",
       "       59.69855954, 59.69856579, 59.69855954, 59.69855954, 59.69855954,\n",
       "       59.69855954, 59.69855954, 59.69855954,  8.79179345, 59.69855953,\n",
       "       59.69855954, 59.69855954, 59.69855954, 59.69855257, 59.69855954,\n",
       "       59.69855954, 59.69854564, 54.0310211 , 59.69855954, 59.69925978,\n",
       "       59.69855954, 59.69855954, 59.69855954, 59.69855954, 59.69855954,\n",
       "       59.69855954, 59.07822228, 45.91579466, 59.69855954, 47.10905626,\n",
       "       59.69855954, 59.69853268, 59.69855954, 59.53947802, 59.69855954,\n",
       "       59.69855954, 59.69855954, 59.69855954, 59.69855954, 59.69855954,\n",
       "       59.69855954, 59.69855954, 59.69855954, 59.69855954, 16.57476108,\n",
       "       36.75427902, 59.68610305, 59.69855954, 59.69855954, 59.69855954,\n",
       "       59.69855954, 59.69855909, 59.69855965, 59.69855954, 22.47222654,\n",
       "       58.77185101, 59.69918846, 59.69855954, 59.69855954, 59.69855954,\n",
       "       51.58742457, 59.56441215, 59.69855954, 59.55645965, 56.13323358,\n",
       "       59.69855954, 59.69855954, 59.69855954, 59.69855954, 21.82640104,\n",
       "       59.69810395, 59.69855954, 59.69855954, 59.69855954, 59.69855954,\n",
       "       59.69855954, 59.69855954, 59.69855954, 59.69855954, 59.69855954,\n",
       "       59.69855954, 59.69855954, 59.69855954, 59.69855954, 59.69855954,\n",
       "       59.69855954, 23.40553361, 59.69855953, 59.69855954, 59.69855954,\n",
       "       59.69855954, 59.69855954, 59.69855954, 59.69855954, 59.69726336,\n",
       "       22.47222654, 59.69855954, 59.69855954, 59.69855954, 59.69855954,\n",
       "       59.69855954, 59.36894629, 59.69855954, 59.69855954, 59.69855954,\n",
       "       59.69859091, 59.44432443, 59.69855954, 59.69855954, 59.69855954,\n",
       "       59.69855954, 59.68751278, 59.69855954, 13.52905877, 59.69855956,\n",
       "       59.69318928, 59.69855954, 59.69855954, 59.69855954, 59.69855954,\n",
       "       59.69855954, 59.69858223, 59.63760524, 59.69855954, 59.633178  ,\n",
       "       59.69768148, 59.69855954, 59.8959303 , 59.69855954, 59.36104225,\n",
       "       58.94591244, 59.69855954, 59.69855954, 59.73917561, 59.54649381,\n",
       "       59.04848367, 59.69855954, 57.21401734, 59.69855954, 59.69141467,\n",
       "       59.69855954, 59.69855954, 58.670585  , 59.69855954, 59.58918021,\n",
       "       59.69705142, 59.69855954, 59.69855954, 59.69825416, 59.69855954,\n",
       "       26.48787869, 59.69855954, 59.69855954, 59.69855954, 56.37624768,\n",
       "       48.62271766, 59.69855954, 59.69486877, 59.69855954, 59.66334105,\n",
       "       59.69855954, 59.69855954, 59.69855954, 59.69855954, 59.69355164,\n",
       "       59.69675411, 59.69855954, 59.69855954,  4.84776436, 59.69855954,\n",
       "       59.69855954, 59.69855954, 59.69855954, 59.69855954, 59.69855954,\n",
       "       59.69853636, 59.69855954, 59.69855954, 59.69855954, 59.69855954,\n",
       "       59.69855954, 57.99167051, 59.69855954, 59.69855954, 59.69733645,\n",
       "       59.69855954, 59.69855954, 59.69855954, 59.16879667, 59.69855953,\n",
       "       59.69855954, 59.69855954, 47.85034156, 59.69855954, 59.72871048,\n",
       "       59.69855954, 55.34520957, 62.37194218, 59.69855954, 59.69855954,\n",
       "       59.69855954, 59.69855954, 59.69855954, 59.69855362, 59.69855954,\n",
       "       59.69855954, 57.48754053, 59.69855954, 52.24692783, 59.69855954,\n",
       "       59.69855954, 59.69854099, 59.69855954, 59.69855954, 22.47222654,\n",
       "       59.69854399, 59.69855954, 59.69855954, 59.68600377, 59.6985605 ,\n",
       "       59.69855954, 59.69855954, 59.69855954, 60.63867977, 59.69855954,\n",
       "       59.69855954, 59.69855954, 59.69855954, 59.58904668, 59.69855954,\n",
       "       59.69851101, 58.55966966, 59.69855954, 59.69855954, 59.69848938,\n",
       "       59.69855954, 59.715658  , 59.69855954, 59.69855954, 59.69829082,\n",
       "       59.69855954,  5.74908317, 59.69855954, 59.69855954, 12.26182564,\n",
       "       59.69855954, 59.69854565, 59.69855954, 59.69855954, 59.69855954,\n",
       "       59.7069561 , 59.69855954, 59.69855954, 59.59913899, 59.69855954,\n",
       "       26.05057351, 59.69855954, 59.69855954, 59.69855954, 21.05882947,\n",
       "       59.69855954, 59.65755334, 59.69855954, 59.69855954, 59.69853732,\n",
       "       59.69855954, 59.69855954, 59.64686958, 59.69855954, 50.9936436 ,\n",
       "       59.69855954, 29.10653035, 59.69855954, 59.69855954, 59.69855954,\n",
       "       59.69855954, 59.69855954, 59.69855944, 59.69855954, 59.69855954,\n",
       "       59.69855954, 59.69855954, 22.47222654, 17.6268454 , 59.69855954,\n",
       "       59.72692949, 59.69855954, 59.69855954, 59.64859991, 51.16302022,\n",
       "       59.69855954, 59.69855954, 59.69855954, 59.69855954, 59.69856382,\n",
       "       59.69855954, 57.51386782, 53.92772999, 59.69855954, 47.43759304,\n",
       "       59.69855954, 59.69855954, 59.69855954, 59.69855954, 59.69855954,\n",
       "       59.69855954, 59.69855954, 31.56231303, 59.66885824, 59.69855954,\n",
       "       59.69855954, 59.43756172, 56.64136667, 59.69855954, 57.9695771 ,\n",
       "       59.36910926, 59.69855954, 59.69855954, 59.69855954, 59.69855954,\n",
       "       59.69855934, 59.69855954, 59.69855954, 59.69855954, 59.69855954,\n",
       "       59.69855954, 59.69855954, 59.69855954, 59.69855954, 59.69855954,\n",
       "       59.69855954, 59.69855954, 59.69868305, 59.69697806, 59.57891272,\n",
       "       59.69855954, 59.69855954, 59.69855954, 59.69785303, 59.69855954,\n",
       "       59.69855954, 59.69855954, 30.03826537, 20.11191749, 33.2098548 ,\n",
       "       59.69855954, 59.69855273, 59.69855954, 59.69855954, 59.69855954,\n",
       "       59.69855954, 59.69855954, 59.69855954, 59.69855954, 59.69855954,\n",
       "       59.70718077, 59.69855954, 59.69855954, 59.69684354, 59.69855954,\n",
       "       59.69855954, 59.69855954, 59.69855954, 59.69864538, 59.69855954,\n",
       "       59.69855954, 59.69853664, 21.06250217, 59.69855954, 59.69855954,\n",
       "       59.69791683, 59.69855954, 59.69855954, 59.69855954, 59.69855954,\n",
       "       59.69855954, 59.69855954, 27.69963847, 32.01599042, 59.69855954,\n",
       "       59.69855954, 59.69855954, 60.4447086 , 59.69855684, 59.69855954,\n",
       "       59.7200204 , 59.69855954, 49.5917315 , 59.69855954, 59.69855954,\n",
       "       59.69855954, 59.69855954, 59.69855954, 59.47898825, 59.63061926,\n",
       "       59.69855954, 59.69855954, 59.69855954, 59.69855954, 59.69855954,\n",
       "       57.61933029, 59.69855954, 59.69855954, 59.69855954, 59.69855954,\n",
       "       59.69855954, 59.69855954, 22.47222654, 59.69855954, 59.69855954,\n",
       "       59.69855954, 11.61034433, 59.69855954, 59.69855954, 59.69855954,\n",
       "       59.69855954, 59.69855954, 59.69855954, 59.69855954, 59.69855954,\n",
       "       59.69833973, 59.6985595 , 59.69855954, 59.69855954, 59.69855954,\n",
       "       59.69855954, 59.69855954, 59.69853432,  9.69752065, 59.69855954,\n",
       "       59.69855954, 59.69855954, 59.6985595 , 59.69855954, 59.69855954,\n",
       "       59.69855954, 59.69855954, 59.69855952, 59.39233893, 59.81947117,\n",
       "       59.69855954, 59.69855954, 24.99846733, 59.69856272, 59.69855954,\n",
       "       59.69855954, 59.69855954, 59.69855954, 59.69855954, 59.69855954,\n",
       "       59.69855954, 59.69855954, 59.69855954, 16.70991883, 59.69855954,\n",
       "       59.69855954, 44.43335506, 59.69855954, 55.64285686, 59.69855954,\n",
       "       59.69855954, 59.69855228, 22.47222654, 31.01151359, 59.69855954,\n",
       "       59.69848208, 59.69855954, 59.69855954, 59.69855954, 59.69855954,\n",
       "       59.69855954, 59.69855954, 52.63416888, 38.76176334, 59.69855954,\n",
       "       59.69855954, 59.69855954, 59.69855954, 59.69855954, 59.69855954,\n",
       "       59.69855954, 59.67476649, 59.69855954, 59.1346329 , 59.69855954,\n",
       "       59.69855954, 59.69855954, 59.69855954, 59.18267419, 59.69855954,\n",
       "       59.67994094, 58.16429011, 59.69855954, 59.69855954, 59.69855954,\n",
       "       59.69855954, 59.69855954, 59.69855954, 59.69855954, 59.69855954,\n",
       "       59.69062449, 61.59227031, 59.69855954, 59.69855954, 59.69855954,\n",
       "       59.69855954, 53.18344223, 59.69855954, 59.69855954, 59.69855954,\n",
       "       59.69855954, 59.69855954, 31.1218758 , 59.69855954, 59.69855954,\n",
       "       59.69809281, 59.69855954, 59.698559  , 56.07163227, 59.69855954,\n",
       "       59.69855954, 59.69855954, 59.69855954, 59.69851345, 59.69898609,\n",
       "       59.69855954, 59.69855954, 59.69855954, 59.69855954, 21.81159997,\n",
       "       59.69855954, 59.69855954, 59.69855954])"
      ]
     },
     "execution_count": 63,
     "metadata": {},
     "output_type": "execute_result"
    }
   ],
   "source": [
    "svr_pred = grid_svr.predict(X_test)\n",
    "svr_pred"
   ]
  },
  {
   "cell_type": "code",
   "execution_count": 64,
   "metadata": {},
   "outputs": [],
   "source": [
    "import joblib\n",
    "joblib.dump(ridge, \"stock_prediction.pkl\")\n",
    "\n",
    "model = joblib.load(\"stock_prediction.pkl\")\n"
   ]
  },
  {
   "cell_type": "code",
   "execution_count": null,
   "metadata": {},
   "outputs": [],
   "source": []
  }
 ],
 "metadata": {
  "kernelspec": {
   "display_name": "Python 3",
   "language": "python",
   "name": "python3"
  },
  "language_info": {
   "codemirror_mode": {
    "name": "ipython",
    "version": 3
   },
   "file_extension": ".py",
   "mimetype": "text/x-python",
   "name": "python",
   "nbconvert_exporter": "python",
   "pygments_lexer": "ipython3",
   "version": "3.8.6"
  },
  "orig_nbformat": 4
 },
 "nbformat": 4,
 "nbformat_minor": 2
}
